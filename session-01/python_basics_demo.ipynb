{
 "cells": [
  {
   "cell_type": "markdown",
   "metadata": {},
   "source": [
    "# Python Basics Demo\n",
    "\n",
    "This notebook demonstrates fundamental Python concepts and coding techniques."
   ]
  },
  {
   "cell_type": "markdown",
   "metadata": {},
   "source": [
    "## 1. Variables and Data Types"
   ]
  },
  {
   "cell_type": "code",
   "execution_count": 1,
   "metadata": {},
   "outputs": [
    {
     "name": "stdout",
     "output_type": "stream",
     "text": [
      "Integer: 42 (type: <class 'int'>)\n",
      "Float: 3.14 (type: <class 'float'>)\n",
      "String: Hello, Python! (type: <class 'str'>)\n",
      "Boolean: True (type: <class 'bool'>)\n",
      "None: None (type: <class 'NoneType'>)\n"
     ]
    }
   ],
   "source": [
    "# Basic data types\n",
    "integer_var = 42\n",
    "float_var = 3.14\n",
    "string_var = \"Hello, Python!\"\n",
    "boolean_var = True\n",
    "none_var = None\n",
    "\n",
    "print(f\"Integer: {integer_var} (type: {type(integer_var)})\")\n",
    "print(f\"Float: {float_var} (type: {type(float_var)})\")\n",
    "print(f\"String: {string_var} (type: {type(string_var)})\")\n",
    "print(f\"Boolean: {boolean_var} (type: {type(boolean_var)})\")\n",
    "print(f\"None: {none_var} (type: {type(none_var)})\")"
   ]
  },
  {
   "cell_type": "markdown",
   "metadata": {},
   "source": [
    "## 2. String Operations"
   ]
  },
  {
   "cell_type": "code",
   "execution_count": 2,
   "metadata": {},
   "outputs": [
    {
     "name": "stdout",
     "output_type": "stream",
     "text": [
      "Original: Python Programming\n",
      "Length: 18\n",
      "Uppercase: PYTHON PROGRAMMING\n",
      "Lowercase: python programming\n",
      "Replace: Java Programming\n",
      "Split: ['Python', 'Programming']\n",
      "Starts with 'Python': True\n",
      "Hello, my name is Alice and I am 25 years old.\n",
      "Hello, my name is Alice and I am 25 years old.\n",
      "Hello, my name is Alice and I am 25 years old.\n"
     ]
    }
   ],
   "source": [
    "text = \"Python Programming\"\n",
    "\n",
    "print(f\"Original: {text}\")\n",
    "print(f\"Length: {len(text)}\")\n",
    "print(f\"Uppercase: {text.upper()}\")\n",
    "print(f\"Lowercase: {text.lower()}\")\n",
    "print(f\"Replace: {text.replace('Python', 'Java')}\")\n",
    "print(f\"Split: {text.split()}\")\n",
    "print(f\"Starts with 'Python': {text.startswith('Python')}\")\n",
    "\n",
    "# String formatting\n",
    "name = \"Alice\"\n",
    "age = 25\n",
    "print(f\"Hello, my name is {name} and I am {age} years old.\")\n",
    "print(\"Hello, my name is {} and I am {} years old.\".format(name, age))\n",
    "print(\"Hello, my name is %s and I am %d years old.\" % (name, age))"
   ]
  },
  {
   "cell_type": "markdown",
   "metadata": {},
   "source": [
    "## 3. Lists and List Operations"
   ]
  },
  {
   "cell_type": "code",
   "execution_count": 3,
   "metadata": {},
   "outputs": [
    {
     "name": "stdout",
     "output_type": "stream",
     "text": [
      "Fruits: ['apple', 'banana', 'orange', 'grape']\n",
      "First fruit: apple\n",
      "Last fruit: grape\n",
      "Slice [1:3]: ['banana', 'orange']\n",
      "After append: ['apple', 'banana', 'orange', 'grape', 'mango']\n",
      "After insert: ['apple', 'kiwi', 'banana', 'orange', 'grape', 'mango']\n",
      "After remove: ['apple', 'kiwi', 'orange', 'grape', 'mango']\n",
      "Length: 5\n",
      "Count of 'apple': 1\n",
      "Index of 'orange': 2\n"
     ]
    }
   ],
   "source": [
    "# Creating and manipulating lists\n",
    "fruits = ['apple', 'banana', 'orange', 'grape']\n",
    "numbers = [1, 2, 3, 4, 5]\n",
    "mixed_list = ['hello', 42, True, 3.14]\n",
    "\n",
    "print(f\"Fruits: {fruits}\")\n",
    "print(f\"First fruit: {fruits[0]}\")\n",
    "print(f\"Last fruit: {fruits[-1]}\")\n",
    "print(f\"Slice [1:3]: {fruits[1:3]}\")\n",
    "\n",
    "# List methods\n",
    "fruits.append('mango')\n",
    "print(f\"After append: {fruits}\")\n",
    "\n",
    "fruits.insert(1, 'kiwi')\n",
    "print(f\"After insert: {fruits}\")\n",
    "\n",
    "fruits.remove('banana')\n",
    "print(f\"After remove: {fruits}\")\n",
    "\n",
    "print(f\"Length: {len(fruits)}\")\n",
    "print(f\"Count of 'apple': {fruits.count('apple')}\")\n",
    "print(f\"Index of 'orange': {fruits.index('orange')}\")"
   ]
  },
  {
   "cell_type": "markdown",
   "metadata": {},
   "source": [
    "## 4. Dictionaries"
   ]
  },
  {
   "cell_type": "code",
   "execution_count": 4,
   "metadata": {},
   "outputs": [
    {
     "name": "stdout",
     "output_type": "stream",
     "text": [
      "Student info: {'name': 'John Doe', 'age': 20, 'grade': 'A', 'subjects': ['Math', 'Physics', 'Chemistry']}\n",
      "Name: John Doe\n",
      "Age: 20\n",
      "GPA: Not available\n",
      "After adding city: {'name': 'John Doe', 'age': 20, 'grade': 'A', 'subjects': ['Math', 'Physics', 'Chemistry'], 'city': 'New York'}\n",
      "Keys: ['name', 'age', 'grade', 'subjects', 'city']\n",
      "Values: ['John Doe', 20, 'A', ['Math', 'Physics', 'Chemistry'], 'New York']\n",
      "Items: [('name', 'John Doe'), ('age', 20), ('grade', 'A'), ('subjects', ['Math', 'Physics', 'Chemistry']), ('city', 'New York')]\n",
      "Squares: {1: 1, 2: 4, 3: 9, 4: 16, 5: 25}\n"
     ]
    }
   ],
   "source": [
    "# Creating and using dictionaries\n",
    "student = {\n",
    "    'name': 'John Doe',\n",
    "    'age': 20,\n",
    "    'grade': 'A',\n",
    "    'subjects': ['Math', 'Physics', 'Chemistry']\n",
    "}\n",
    "\n",
    "print(f\"Student info: {student}\")\n",
    "print(f\"Name: {student['name']}\")\n",
    "print(f\"Age: {student.get('age')}\")\n",
    "print(f\"GPA: {student.get('gpa', 'Not available')}\")\n",
    "\n",
    "# Dictionary methods\n",
    "student['city'] = 'New York'\n",
    "print(f\"After adding city: {student}\")\n",
    "\n",
    "print(f\"Keys: {list(student.keys())}\")\n",
    "print(f\"Values: {list(student.values())}\")\n",
    "print(f\"Items: {list(student.items())}\")\n",
    "\n",
    "# Dictionary comprehension\n",
    "squares = {x: x**2 for x in range(1, 6)}\n",
    "print(f\"Squares: {squares}\")"
   ]
  },
  {
   "cell_type": "markdown",
   "metadata": {},
   "source": [
    "## 5. Tuples and Sets"
   ]
  },
  {
   "cell_type": "code",
   "execution_count": 5,
   "metadata": {},
   "outputs": [
    {
     "name": "stdout",
     "output_type": "stream",
     "text": [
      "Coordinates: (10, 20)\n",
      "X: 10, Y: 20\n",
      "Colors: ('red', 'green', 'blue', 'red')\n",
      "Count of 'red': 2\n",
      "Unpacked - X: 10, Y: 20\n",
      "Set: {1, 2, 3, 4, 5}\n",
      "Union: {1, 2, 3, 4, 5, 6}\n",
      "Intersection: {3, 4}\n",
      "Difference: {1, 2}\n"
     ]
    }
   ],
   "source": [
    "# Tuples (immutable)\n",
    "coordinates = (10, 20)\n",
    "colors = ('red', 'green', 'blue', 'red')\n",
    "\n",
    "print(f\"Coordinates: {coordinates}\")\n",
    "print(f\"X: {coordinates[0]}, Y: {coordinates[1]}\")\n",
    "print(f\"Colors: {colors}\")\n",
    "print(f\"Count of 'red': {colors.count('red')}\")\n",
    "\n",
    "# Tuple unpacking\n",
    "x, y = coordinates\n",
    "print(f\"Unpacked - X: {x}, Y: {y}\")\n",
    "\n",
    "# Sets (unique elements)\n",
    "unique_numbers = {1, 2, 3, 4, 5, 1, 2}\n",
    "print(f\"Set: {unique_numbers}\")\n",
    "\n",
    "set1 = {1, 2, 3, 4}\n",
    "set2 = {3, 4, 5, 6}\n",
    "print(f\"Union: {set1 | set2}\")\n",
    "print(f\"Intersection: {set1 & set2}\")\n",
    "print(f\"Difference: {set1 - set2}\")"
   ]
  },
  {
   "cell_type": "markdown",
   "metadata": {},
   "source": [
    "## 6. Control Flow - Conditionals"
   ]
  },
  {
   "cell_type": "code",
   "execution_count": 6,
   "metadata": {},
   "outputs": [
    {
     "name": "stdout",
     "output_type": "stream",
     "text": [
      "Score: 85, Grade: B\n",
      "Status: Pass\n",
      "Can drive\n"
     ]
    }
   ],
   "source": [
    "# If-elif-else statements\n",
    "score = 85\n",
    "\n",
    "if score >= 90:\n",
    "    grade = 'A'\n",
    "elif score >= 80:\n",
    "    grade = 'B'\n",
    "elif score >= 70:\n",
    "    grade = 'C'\n",
    "elif score >= 60:\n",
    "    grade = 'D'\n",
    "else:\n",
    "    grade = 'F'\n",
    "\n",
    "print(f\"Score: {score}, Grade: {grade}\")\n",
    "\n",
    "# Ternary operator\n",
    "status = \"Pass\" if score >= 60 else \"Fail\"\n",
    "print(f\"Status: {status}\")\n",
    "\n",
    "# Multiple conditions\n",
    "age = 25\n",
    "has_license = True\n",
    "\n",
    "if age >= 18 and has_license:\n",
    "    print(\"Can drive\")\n",
    "elif age >= 18 and not has_license:\n",
    "    print(\"Can get a license\")\n",
    "else:\n",
    "    print(\"Too young to drive\")"
   ]
  },
  {
   "cell_type": "markdown",
   "metadata": {},
   "source": [
    "## 7. Loops"
   ]
  },
  {
   "cell_type": "code",
   "execution_count": 7,
   "metadata": {},
   "outputs": [
    {
     "name": "stdout",
     "output_type": "stream",
     "text": [
      "For loop with range:\n",
      "Number: 0\n",
      "Number: 1\n",
      "Number: 2\n",
      "Number: 3\n",
      "Number: 4\n",
      "\n",
      "For loop with list:\n",
      "I like apple\n",
      "I like banana\n",
      "I like orange\n",
      "\n",
      "For loop with enumerate:\n",
      "0: apple\n",
      "1: banana\n",
      "2: orange\n",
      "\n",
      "For loop with dictionary:\n",
      "name: Alice\n",
      "age: 30\n",
      "city: Boston\n"
     ]
    }
   ],
   "source": [
    "# For loops\n",
    "print(\"For loop with range:\")\n",
    "for i in range(5):\n",
    "    print(f\"Number: {i}\")\n",
    "\n",
    "print(\"\\nFor loop with list:\")\n",
    "fruits = ['apple', 'banana', 'orange']\n",
    "for fruit in fruits:\n",
    "    print(f\"I like {fruit}\")\n",
    "\n",
    "print(\"\\nFor loop with enumerate:\")\n",
    "for index, fruit in enumerate(fruits):\n",
    "    print(f\"{index}: {fruit}\")\n",
    "\n",
    "print(\"\\nFor loop with dictionary:\")\n",
    "person = {'name': 'Alice', 'age': 30, 'city': 'Boston'}\n",
    "for key, value in person.items():\n",
    "    print(f\"{key}: {value}\")"
   ]
  },
  {
   "cell_type": "code",
   "execution_count": 8,
   "metadata": {},
   "outputs": [
    {
     "name": "stdout",
     "output_type": "stream",
     "text": [
      "While loop:\n",
      "Count: 0\n",
      "Count: 1\n",
      "Count: 2\n",
      "Count: 3\n",
      "Count: 4\n",
      "\n",
      "Loop with break and continue:\n",
      "Value: 0\n",
      "Value: 1\n",
      "Value: 2\n",
      "Value: 4\n",
      "Value: 5\n",
      "Value: 6\n"
     ]
    }
   ],
   "source": [
    "# While loops\n",
    "print(\"While loop:\")\n",
    "count = 0\n",
    "while count < 5:\n",
    "    print(f\"Count: {count}\")\n",
    "    count += 1\n",
    "\n",
    "# Break and continue\n",
    "print(\"\\nLoop with break and continue:\")\n",
    "for i in range(10):\n",
    "    if i == 3:\n",
    "        continue  # Skip 3\n",
    "    if i == 7:\n",
    "        break     # Stop at 7\n",
    "    print(f\"Value: {i}\")"
   ]
  },
  {
   "cell_type": "markdown",
   "metadata": {},
   "source": [
    "## 8. Functions"
   ]
  },
  {
   "cell_type": "code",
   "execution_count": 9,
   "metadata": {},
   "outputs": [
    {
     "name": "stdout",
     "output_type": "stream",
     "text": [
      "Hello, World!\n",
      "Square area: 5\n",
      "Rectangle area: 15\n",
      "Args: (1, 2, 3)\n",
      "Kwargs: {'name': 'Alice', 'age': 25}\n",
      "Sum of args: 6\n",
      "Square of 5: 25\n",
      "Squared numbers: [1, 4, 9, 16, 25]\n"
     ]
    }
   ],
   "source": [
    "# Basic function\n",
    "def greet(name):\n",
    "    return f\"Hello, {name}!\"\n",
    "\n",
    "print(greet(\"World\"))\n",
    "\n",
    "# Function with default parameters\n",
    "def calculate_area(length, width=1):\n",
    "    return length * width\n",
    "\n",
    "print(f\"Square area: {calculate_area(5)}\")\n",
    "print(f\"Rectangle area: {calculate_area(5, 3)}\")\n",
    "\n",
    "# Function with *args and **kwargs\n",
    "def flexible_function(*args, **kwargs):\n",
    "    print(f\"Args: {args}\")\n",
    "    print(f\"Kwargs: {kwargs}\")\n",
    "    return sum(args) if args else 0\n",
    "\n",
    "result = flexible_function(1, 2, 3, name=\"Alice\", age=25)\n",
    "print(f\"Sum of args: {result}\")\n",
    "\n",
    "# Lambda functions\n",
    "square = lambda x: x ** 2\n",
    "print(f\"Square of 5: {square(5)}\")\n",
    "\n",
    "numbers = [1, 2, 3, 4, 5]\n",
    "squared_numbers = list(map(lambda x: x**2, numbers))\n",
    "print(f\"Squared numbers: {squared_numbers}\")"
   ]
  },
  {
   "cell_type": "markdown",
   "metadata": {},
   "source": [
    "## 9. List Comprehensions"
   ]
  },
  {
   "cell_type": "code",
   "execution_count": 10,
   "metadata": {},
   "outputs": [
    {
     "name": "stdout",
     "output_type": "stream",
     "text": [
      "Squares: [1, 4, 9, 16, 25]\n",
      "Even squares: [4, 16]\n",
      "Flattened matrix: [1, 2, 3, 4, 5, 6, 7, 8, 9]\n",
      "Word lengths: {'python': 6, 'java': 4, 'javascript': 10}\n",
      "Unique lengths: {4, 5, 6}\n"
     ]
    }
   ],
   "source": [
    "# Basic list comprehension\n",
    "numbers = [1, 2, 3, 4, 5]\n",
    "squares = [x**2 for x in numbers]\n",
    "print(f\"Squares: {squares}\")\n",
    "\n",
    "# List comprehension with condition\n",
    "even_squares = [x**2 for x in numbers if x % 2 == 0]\n",
    "print(f\"Even squares: {even_squares}\")\n",
    "\n",
    "# Nested list comprehension\n",
    "matrix = [[1, 2, 3], [4, 5, 6], [7, 8, 9]]\n",
    "flattened = [num for row in matrix for num in row]\n",
    "print(f\"Flattened matrix: {flattened}\")\n",
    "\n",
    "# Dictionary comprehension\n",
    "word_lengths = {word: len(word) for word in ['python', 'java', 'javascript']}\n",
    "print(f\"Word lengths: {word_lengths}\")\n",
    "\n",
    "# Set comprehension\n",
    "unique_lengths = {len(word) for word in ['hello', 'world', 'python', 'code']}\n",
    "print(f\"Unique lengths: {unique_lengths}\")"
   ]
  },
  {
   "cell_type": "markdown",
   "metadata": {},
   "source": [
    "## 10. Exception Handling"
   ]
  },
  {
   "cell_type": "code",
   "execution_count": 11,
   "metadata": {},
   "outputs": [
    {
     "name": "stdout",
     "output_type": "stream",
     "text": [
      "10 / 2 = 5.0\n",
      "Error: Cannot divide by zero!\n",
      "10 / 0 = None\n",
      "Error: Invalid types for division!\n",
      "'10' / '2' = None\n",
      "Number read successfully\n",
      "Cleanup completed\n",
      "Result: 42\n"
     ]
    }
   ],
   "source": [
    "# Basic try-except\n",
    "def safe_divide(a, b):\n",
    "    try:\n",
    "        result = a / b\n",
    "        return result\n",
    "    except ZeroDivisionError:\n",
    "        print(\"Error: Cannot divide by zero!\")\n",
    "        return None\n",
    "    except TypeError:\n",
    "        print(\"Error: Invalid types for division!\")\n",
    "        return None\n",
    "\n",
    "print(f\"10 / 2 = {safe_divide(10, 2)}\")\n",
    "print(f\"10 / 0 = {safe_divide(10, 0)}\")\n",
    "print(f\"'10' / '2' = {safe_divide('10', '2')}\")\n",
    "\n",
    "# Try-except-else-finally\n",
    "def read_number():\n",
    "    try:\n",
    "        num = int(\"42\")\n",
    "    except ValueError:\n",
    "        print(\"Invalid number\")\n",
    "        num = 0\n",
    "    else:\n",
    "        print(\"Number read successfully\")\n",
    "    finally:\n",
    "        print(\"Cleanup completed\")\n",
    "    return num\n",
    "\n",
    "result = read_number()\n",
    "print(f\"Result: {result}\")"
   ]
  },
  {
   "cell_type": "markdown",
   "metadata": {},
   "source": [
    "## 11. File Operations"
   ]
  },
  {
   "cell_type": "code",
   "execution_count": 12,
   "metadata": {},
   "outputs": [
    {
     "name": "stdout",
     "output_type": "stream",
     "text": [
      "File 'sample.txt' created successfully\n",
      "File content:\n",
      "Hello, Python!\n",
      "This is a sample file.\n",
      "Line 1\n",
      "Line 2\n",
      "Line 3\n",
      "\n",
      "Reading line by line:\n",
      "1: Hello, Python!\n",
      "2: This is a sample file.\n",
      "3: Line 1\n",
      "4: Line 2\n",
      "5: Line 3\n",
      "\n",
      "After appending:\n",
      "Hello, Python!\n",
      "This is a sample file.\n",
      "Line 1\n",
      "Line 2\n",
      "Line 3\n",
      "Appended line\n",
      "\n"
     ]
    }
   ],
   "source": [
    "# Writing to a file\n",
    "filename = \"sample.txt\"\n",
    "\n",
    "# Write mode\n",
    "with open(filename, 'w') as file:\n",
    "    file.write(\"Hello, Python!\\n\")\n",
    "    file.write(\"This is a sample file.\\n\")\n",
    "    file.writelines([\"Line 1\\n\", \"Line 2\\n\", \"Line 3\\n\"])\n",
    "\n",
    "print(f\"File '{filename}' created successfully\")\n",
    "\n",
    "# Reading from a file\n",
    "with open(filename, 'r') as file:\n",
    "    content = file.read()\n",
    "    print(\"File content:\")\n",
    "    print(content)\n",
    "\n",
    "# Reading line by line\n",
    "print(\"Reading line by line:\")\n",
    "with open(filename, 'r') as file:\n",
    "    for line_num, line in enumerate(file, 1):\n",
    "        print(f\"{line_num}: {line.strip()}\")\n",
    "\n",
    "# Append mode\n",
    "with open(filename, 'a') as file:\n",
    "    file.write(\"Appended line\\n\")\n",
    "\n",
    "print(\"\\nAfter appending:\")\n",
    "with open(filename, 'r') as file:\n",
    "    print(file.read())"
   ]
  },
  {
   "cell_type": "markdown",
   "metadata": {},
   "source": [
    "## 12. Classes and Objects"
   ]
  },
  {
   "cell_type": "code",
   "execution_count": 13,
   "metadata": {},
   "outputs": [
    {
     "name": "stdout",
     "output_type": "stream",
     "text": [
      "Hi, I'm Alice and I'm 25 years old.\n",
      "Hi, I'm Bob and I'm 30 years old.\n",
      "Happy birthday! Alice is now 26.\n",
      "Species: Homo sapiens\n",
      "Person1: Person(name='Alice', age=26)\n"
     ]
    }
   ],
   "source": [
    "# Basic class definition\n",
    "class Person:\n",
    "    # Class variable\n",
    "    species = \"Homo sapiens\"\n",
    "    \n",
    "    def __init__(self, name, age):\n",
    "        # Instance variables\n",
    "        self.name = name\n",
    "        self.age = age\n",
    "    \n",
    "    def introduce(self):\n",
    "        return f\"Hi, I'm {self.name} and I'm {self.age} years old.\"\n",
    "    \n",
    "    def have_birthday(self):\n",
    "        self.age += 1\n",
    "        return f\"Happy birthday! {self.name} is now {self.age}.\"\n",
    "    \n",
    "    def __str__(self):\n",
    "        return f\"Person(name='{self.name}', age={self.age})\"\n",
    "\n",
    "# Creating objects\n",
    "person1 = Person(\"Alice\", 25)\n",
    "person2 = Person(\"Bob\", 30)\n",
    "\n",
    "print(person1.introduce())\n",
    "print(person2.introduce())\n",
    "print(person1.have_birthday())\n",
    "print(f\"Species: {Person.species}\")\n",
    "print(f\"Person1: {person1}\")"
   ]
  },
  {
   "cell_type": "code",
   "execution_count": 14,
   "metadata": {},
   "outputs": [
    {
     "name": "stdout",
     "output_type": "stream",
     "text": [
      "Hi, I'm Charlie and I'm 20 years old. I'm a student with ID CS001.\n",
      "Charlie enrolled in Python Programming\n",
      "Charlie enrolled in Data Structures\n",
      "Courses: ['Python Programming', 'Data Structures']\n",
      "Student: Student(name='Charlie', age=20, id='CS001')\n"
     ]
    }
   ],
   "source": [
    "# Inheritance\n",
    "class Student(Person):\n",
    "    def __init__(self, name, age, student_id):\n",
    "        super().__init__(name, age)\n",
    "        self.student_id = student_id\n",
    "        self.courses = []\n",
    "    \n",
    "    def enroll(self, course):\n",
    "        self.courses.append(course)\n",
    "        return f\"{self.name} enrolled in {course}\"\n",
    "    \n",
    "    def introduce(self):\n",
    "        base_intro = super().introduce()\n",
    "        return f\"{base_intro} I'm a student with ID {self.student_id}.\"\n",
    "    \n",
    "    def __str__(self):\n",
    "        return f\"Student(name='{self.name}', age={self.age}, id='{self.student_id}')\"\n",
    "\n",
    "# Using inheritance\n",
    "student = Student(\"Charlie\", 20, \"CS001\")\n",
    "print(student.introduce())\n",
    "print(student.enroll(\"Python Programming\"))\n",
    "print(student.enroll(\"Data Structures\"))\n",
    "print(f\"Courses: {student.courses}\")\n",
    "print(f\"Student: {student}\")"
   ]
  },
  {
   "cell_type": "markdown",
   "metadata": {},
   "source": [
    "## 13. Modules and Packages"
   ]
  },
  {
   "cell_type": "code",
   "execution_count": 15,
   "metadata": {},
   "outputs": [
    {
     "name": "stdout",
     "output_type": "stream",
     "text": [
      "Pi: 3.141592653589793\n",
      "Square root of 16: 4.0\n",
      "Ceiling of 4.3: 5\n",
      "Floor of 4.7: 4\n",
      "Random number: 0.3567997363813361\n",
      "Random integer (1-10): 9\n",
      "Random choice: orange\n",
      "Current time: 2025-08-02 18:02:17.147944\n",
      "Formatted time: 2025-08-02 18:02:17\n",
      "30 days from now: 2025-09-01\n",
      "Current directory: c:\\Users\\Praveen\\session-demo-2-aug\\session-01\n",
      "Environment PATH: c:\\Users\\Praveen\\session-demo-2-aug\\.venv\\Scripts;...\n"
     ]
    }
   ],
   "source": [
    "# Importing built-in modules\n",
    "import math\n",
    "import random\n",
    "from datetime import datetime, timedelta\n",
    "import os\n",
    "\n",
    "# Math module\n",
    "print(f\"Pi: {math.pi}\")\n",
    "print(f\"Square root of 16: {math.sqrt(16)}\")\n",
    "print(f\"Ceiling of 4.3: {math.ceil(4.3)}\")\n",
    "print(f\"Floor of 4.7: {math.floor(4.7)}\")\n",
    "\n",
    "# Random module\n",
    "print(f\"Random number: {random.random()}\")\n",
    "print(f\"Random integer (1-10): {random.randint(1, 10)}\")\n",
    "print(f\"Random choice: {random.choice(['apple', 'banana', 'orange'])}\")\n",
    "\n",
    "# DateTime module\n",
    "now = datetime.now()\n",
    "print(f\"Current time: {now}\")\n",
    "print(f\"Formatted time: {now.strftime('%Y-%m-%d %H:%M:%S')}\")\n",
    "future_date = now + timedelta(days=30)\n",
    "print(f\"30 days from now: {future_date.strftime('%Y-%m-%d')}\")\n",
    "\n",
    "# OS module\n",
    "print(f\"Current directory: {os.getcwd()}\")\n",
    "print(f\"Environment PATH: {os.environ.get('PATH', 'Not found')[:50]}...\")"
   ]
  },
  {
   "cell_type": "markdown",
   "metadata": {},
   "source": [
    "## 14. Working with JSON"
   ]
  },
  {
   "cell_type": "code",
   "execution_count": 16,
   "metadata": {},
   "outputs": [
    {
     "name": "stdout",
     "output_type": "stream",
     "text": [
      "JSON string:\n",
      "{\n",
      "  \"name\": \"John Doe\",\n",
      "  \"age\": 30,\n",
      "  \"city\": \"New York\",\n",
      "  \"hobbies\": [\n",
      "    \"reading\",\n",
      "    \"swimming\",\n",
      "    \"coding\"\n",
      "  ],\n",
      "  \"married\": true\n",
      "}\n",
      "\n",
      "JSON file created successfully\n",
      "\n",
      "Loaded from JSON file:\n",
      "Name: John Doe\n",
      "Hobbies: ['reading', 'swimming', 'coding']\n",
      "\n",
      "Parsed JSON: {'language': 'Python', 'version': 3.9}\n"
     ]
    }
   ],
   "source": [
    "import json\n",
    "\n",
    "# Python object to JSON\n",
    "data = {\n",
    "    'name': 'John Doe',\n",
    "    'age': 30,\n",
    "    'city': 'New York',\n",
    "    'hobbies': ['reading', 'swimming', 'coding'],\n",
    "    'married': True\n",
    "}\n",
    "\n",
    "# Convert to JSON string\n",
    "json_string = json.dumps(data, indent=2)\n",
    "print(\"JSON string:\")\n",
    "print(json_string)\n",
    "\n",
    "# Write JSON to file\n",
    "with open('data.json', 'w') as json_file:\n",
    "    json.dump(data, json_file, indent=2)\n",
    "\n",
    "print(\"\\nJSON file created successfully\")\n",
    "\n",
    "# Read JSON from file\n",
    "with open('data.json', 'r') as json_file:\n",
    "    loaded_data = json.load(json_file)\n",
    "\n",
    "print(\"\\nLoaded from JSON file:\")\n",
    "print(f\"Name: {loaded_data['name']}\")\n",
    "print(f\"Hobbies: {loaded_data['hobbies']}\")\n",
    "\n",
    "# Parse JSON string\n",
    "json_str = '{\"language\": \"Python\", \"version\": 3.9}'\n",
    "parsed_data = json.loads(json_str)\n",
    "print(f\"\\nParsed JSON: {parsed_data}\")"
   ]
  },
  {
   "cell_type": "markdown",
   "metadata": {},
   "source": [
    "## 15. Regular Expressions"
   ]
  },
  {
   "cell_type": "code",
   "execution_count": 17,
   "metadata": {},
   "outputs": [
    {
     "name": "stdout",
     "output_type": "stream",
     "text": [
      "Emails found: ['info@example.com', 'support@company.org']\n",
      "Phone numbers found: ['123-456-7890']\n",
      "Censored text: Contact us at [EMAIL] or [EMAIL]. Phone: 123-456-7890\n",
      "Split fruits: ['apple', 'banana', 'orange', 'grape']\n",
      "Is 'MyPassword123!' a strong password? True\n"
     ]
    }
   ],
   "source": [
    "import re\n",
    "\n",
    "text = \"Contact us at info@example.com or support@company.org. Phone: 123-456-7890\"\n",
    "\n",
    "# Find email addresses\n",
    "email_pattern = r'\\b[A-Za-z0-9._%+-]+@[A-Za-z0-9.-]+\\.[A-Z|a-z]{2,}\\b'\n",
    "emails = re.findall(email_pattern, text)\n",
    "print(f\"Emails found: {emails}\")\n",
    "\n",
    "# Find phone numbers\n",
    "phone_pattern = r'\\d{3}-\\d{3}-\\d{4}'\n",
    "phones = re.findall(phone_pattern, text)\n",
    "print(f\"Phone numbers found: {phones}\")\n",
    "\n",
    "# Replace patterns\n",
    "censored_text = re.sub(email_pattern, '[EMAIL]', text)\n",
    "print(f\"Censored text: {censored_text}\")\n",
    "\n",
    "# Split text\n",
    "sentence = \"apple,banana;orange:grape\"\n",
    "fruits = re.split(r'[,;:]', sentence)\n",
    "print(f\"Split fruits: {fruits}\")\n",
    "\n",
    "# Match patterns\n",
    "password = \"MyPassword123!\"\n",
    "strong_password_pattern = r'^(?=.*[a-z])(?=.*[A-Z])(?=.*\\d)(?=.*[!@#$%^&*]).{8,}$'\n",
    "is_strong = bool(re.match(strong_password_pattern, password))\n",
    "print(f\"Is '{password}' a strong password? {is_strong}\")"
   ]
  },
  {
   "cell_type": "markdown",
   "metadata": {},
   "source": [
    "## 16. Generators and Iterators"
   ]
  },
  {
   "cell_type": "code",
   "execution_count": 18,
   "metadata": {},
   "outputs": [
    {
     "name": "stdout",
     "output_type": "stream",
     "text": [
      "Fibonacci sequence (first 10 numbers):\n",
      "0 1 1 2 3 5 8 13 21 34 \n",
      "\n",
      "Squares generator: [0, 1, 4, 9, 16]\n",
      "\n",
      "Countdown from 5:\n",
      "5 4 3 2 1 \n",
      "Liftoff!\n"
     ]
    }
   ],
   "source": [
    "# Generator function\n",
    "def fibonacci_generator(n):\n",
    "    a, b = 0, 1\n",
    "    count = 0\n",
    "    while count < n:\n",
    "        yield a\n",
    "        a, b = b, a + b\n",
    "        count += 1\n",
    "\n",
    "# Using generator\n",
    "print(\"Fibonacci sequence (first 10 numbers):\")\n",
    "for num in fibonacci_generator(10):\n",
    "    print(num, end=\" \")\n",
    "print()\n",
    "\n",
    "# Generator expression\n",
    "squares_gen = (x**2 for x in range(5))\n",
    "print(f\"\\nSquares generator: {list(squares_gen)}\")\n",
    "\n",
    "# Custom iterator class\n",
    "class CountDown:\n",
    "    def __init__(self, start):\n",
    "        self.start = start\n",
    "    \n",
    "    def __iter__(self):\n",
    "        return self\n",
    "    \n",
    "    def __next__(self):\n",
    "        if self.start <= 0:\n",
    "            raise StopIteration\n",
    "        self.start -= 1\n",
    "        return self.start + 1\n",
    "\n",
    "print(\"\\nCountdown from 5:\")\n",
    "for num in CountDown(5):\n",
    "    print(num, end=\" \")\n",
    "print(\"\\nLiftoff!\")"
   ]
  },
  {
   "cell_type": "markdown",
   "metadata": {},
   "source": [
    "## 17. Decorators"
   ]
  },
  {
   "cell_type": "code",
   "execution_count": 19,
   "metadata": {},
   "outputs": [
    {
     "name": "stdout",
     "output_type": "stream",
     "text": [
      "slow_function took 0.1015 seconds\n",
      "Result: Function completed\n",
      "\n",
      "Repeated greeting:\n",
      "Hello, Alice!\n",
      "Hello, Alice!\n",
      "Hello, Alice!\n"
     ]
    }
   ],
   "source": [
    "import time\n",
    "from functools import wraps\n",
    "\n",
    "# Simple decorator\n",
    "def timer_decorator(func):\n",
    "    @wraps(func)\n",
    "    def wrapper(*args, **kwargs):\n",
    "        start_time = time.time()\n",
    "        result = func(*args, **kwargs)\n",
    "        end_time = time.time()\n",
    "        print(f\"{func.__name__} took {end_time - start_time:.4f} seconds\")\n",
    "        return result\n",
    "    return wrapper\n",
    "\n",
    "# Decorator with parameters\n",
    "def repeat(times):\n",
    "    def decorator(func):\n",
    "        @wraps(func)\n",
    "        def wrapper(*args, **kwargs):\n",
    "            for _ in range(times):\n",
    "                result = func(*args, **kwargs)\n",
    "            return result\n",
    "        return wrapper\n",
    "    return decorator\n",
    "\n",
    "# Using decorators\n",
    "@timer_decorator\n",
    "def slow_function():\n",
    "    time.sleep(0.1)\n",
    "    return \"Function completed\"\n",
    "\n",
    "@repeat(3)\n",
    "def greet_user(name):\n",
    "    print(f\"Hello, {name}!\")\n",
    "\n",
    "# Test decorators\n",
    "result = slow_function()\n",
    "print(f\"Result: {result}\")\n",
    "\n",
    "print(\"\\nRepeated greeting:\")\n",
    "greet_user(\"Alice\")"
   ]
  },
  {
   "cell_type": "markdown",
   "metadata": {},
   "source": [
    "## 18. Context Managers"
   ]
  },
  {
   "cell_type": "code",
   "execution_count": 20,
   "metadata": {},
   "outputs": [
    {
     "name": "stdout",
     "output_type": "stream",
     "text": [
      "Starting Task 1\n",
      "Doing some work...\n",
      "Task 1 completed in 0.1007 seconds\n",
      "Opening file test.txt\n",
      "Closing file test.txt\n",
      "\n",
      "File content:\n",
      "Hello from context manager!\n"
     ]
    }
   ],
   "source": [
    "from contextlib import contextmanager\n",
    "import time\n",
    "\n",
    "# Custom context manager class\n",
    "class TimerContext:\n",
    "    def __init__(self, name):\n",
    "        self.name = name\n",
    "    \n",
    "    def __enter__(self):\n",
    "        print(f\"Starting {self.name}\")\n",
    "        self.start_time = time.time()\n",
    "        return self\n",
    "    \n",
    "    def __exit__(self, exc_type, exc_val, exc_tb):\n",
    "        end_time = time.time()\n",
    "        print(f\"{self.name} completed in {end_time - self.start_time:.4f} seconds\")\n",
    "        if exc_type:\n",
    "            print(f\"Exception occurred: {exc_val}\")\n",
    "        return False\n",
    "\n",
    "# Using custom context manager\n",
    "with TimerContext(\"Task 1\"):\n",
    "    time.sleep(0.1)\n",
    "    print(\"Doing some work...\")\n",
    "\n",
    "# Context manager using decorator\n",
    "@contextmanager\n",
    "def file_manager(filename, mode):\n",
    "    print(f\"Opening file {filename}\")\n",
    "    try:\n",
    "        file = open(filename, mode)\n",
    "        yield file\n",
    "    finally:\n",
    "        print(f\"Closing file {filename}\")\n",
    "        file.close()\n",
    "\n",
    "# Using context manager decorator\n",
    "with file_manager(\"test.txt\", \"w\") as f:\n",
    "    f.write(\"Hello from context manager!\")\n",
    "\n",
    "print(\"\\nFile content:\")\n",
    "with open(\"test.txt\", \"r\") as f:\n",
    "    print(f.read())"
   ]
  },
  {
   "cell_type": "markdown",
   "metadata": {},
   "source": [
    "## 19. Summary and Best Practices"
   ]
  },
  {
   "cell_type": "code",
   "execution_count": 21,
   "metadata": {},
   "outputs": [
    {
     "name": "stdout",
     "output_type": "stream",
     "text": [
      "PYTHON BASICS SUMMARY\n",
      "==================================================\n",
      "\n",
      "✓ Variables and Data Types\n",
      "✓ String Operations and Formatting\n",
      "✓ Data Structures (Lists, Dicts, Tuples, Sets)\n",
      "✓ Control Flow (If/Else, Loops)\n",
      "✓ Functions and Lambda Expressions\n",
      "✓ List Comprehensions\n",
      "✓ Exception Handling\n",
      "✓ File Operations\n",
      "✓ Object-Oriented Programming\n",
      "✓ Modules and Packages\n",
      "✓ JSON Handling\n",
      "✓ Regular Expressions\n",
      "✓ Generators and Iterators\n",
      "✓ Decorators\n",
      "✓ Context Managers\n",
      "\n",
      "PYTHON BEST PRACTICES:\n",
      "------------------------------\n",
      "• Follow PEP 8 style guide\n",
      "• Use meaningful variable names\n",
      "• Write docstrings for functions and classes\n",
      "• Handle exceptions appropriately\n",
      "• Use list comprehensions when appropriate\n",
      "• Prefer 'with' statements for file operations\n",
      "• Keep functions small and focused\n",
      "• Use virtual environments for projects\n",
      "• Write unit tests for your code\n",
      "• Use type hints for better code documentation\n",
      "\n",
      "Happy Python coding! 🐍\n"
     ]
    }
   ],
   "source": [
    "print(\"PYTHON BASICS SUMMARY\")\n",
    "print(\"=\" * 50)\n",
    "print(\"\\n✓ Variables and Data Types\")\n",
    "print(\"✓ String Operations and Formatting\")\n",
    "print(\"✓ Data Structures (Lists, Dicts, Tuples, Sets)\")\n",
    "print(\"✓ Control Flow (If/Else, Loops)\")\n",
    "print(\"✓ Functions and Lambda Expressions\")\n",
    "print(\"✓ List Comprehensions\")\n",
    "print(\"✓ Exception Handling\")\n",
    "print(\"✓ File Operations\")\n",
    "print(\"✓ Object-Oriented Programming\")\n",
    "print(\"✓ Modules and Packages\")\n",
    "print(\"✓ JSON Handling\")\n",
    "print(\"✓ Regular Expressions\")\n",
    "print(\"✓ Generators and Iterators\")\n",
    "print(\"✓ Decorators\")\n",
    "print(\"✓ Context Managers\")\n",
    "\n",
    "print(\"\\nPYTHON BEST PRACTICES:\")\n",
    "print(\"-\" * 30)\n",
    "print(\"• Follow PEP 8 style guide\")\n",
    "print(\"• Use meaningful variable names\")\n",
    "print(\"• Write docstrings for functions and classes\")\n",
    "print(\"• Handle exceptions appropriately\")\n",
    "print(\"• Use list comprehensions when appropriate\")\n",
    "print(\"• Prefer 'with' statements for file operations\")\n",
    "print(\"• Keep functions small and focused\")\n",
    "print(\"• Use virtual environments for projects\")\n",
    "print(\"• Write unit tests for your code\")\n",
    "print(\"• Use type hints for better code documentation\")\n",
    "\n",
    "print(\"\\nHappy Python coding! 🐍\")"
   ]
  },
  {
   "cell_type": "markdown",
   "metadata": {},
   "source": [
    "## 20. Clean Up"
   ]
  },
  {
   "cell_type": "code",
   "execution_count": 22,
   "metadata": {},
   "outputs": [
    {
     "name": "stdout",
     "output_type": "stream",
     "text": [
      "Removed sample.txt\n",
      "Removed data.json\n",
      "Removed test.txt\n",
      "\n",
      "Cleanup completed!\n"
     ]
    }
   ],
   "source": [
    "# Clean up created files\n",
    "import os\n",
    "\n",
    "files_to_remove = ['sample.txt', 'data.json', 'test.txt']\n",
    "\n",
    "for filename in files_to_remove:\n",
    "    try:\n",
    "        if os.path.exists(filename):\n",
    "            os.remove(filename)\n",
    "            print(f\"Removed {filename}\")\n",
    "    except Exception as e:\n",
    "        print(f\"Could not remove {filename}: {e}\")\n",
    "\n",
    "print(\"\\nCleanup completed!\")"
   ]
  }
 ],
 "metadata": {
  "kernelspec": {
   "display_name": ".venv (3.12.0)",
   "language": "python",
   "name": "python3"
  },
  "language_info": {
   "codemirror_mode": {
    "name": "ipython",
    "version": 3
   },
   "file_extension": ".py",
   "mimetype": "text/x-python",
   "name": "python",
   "nbconvert_exporter": "python",
   "pygments_lexer": "ipython3",
   "version": "3.12.0"
  }
 },
 "nbformat": 4,
 "nbformat_minor": 4
}
